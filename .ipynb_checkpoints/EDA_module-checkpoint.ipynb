{
 "cells": [
  {
   "cell_type": "code",
   "execution_count": 1,
   "metadata": {
    "scrolled": true
   },
   "outputs": [],
   "source": [
    "import matplotlib.pyplot as plt\n",
    "import pandas as pd\n",
    "%matplotlib inline\n",
    "import numpy as np\n",
    "import seaborn as sns"
   ]
  },
  {
   "cell_type": "markdown",
   "metadata": {},
   "source": [
    "# General Summary"
   ]
  },
  {
   "cell_type": "code",
   "execution_count": null,
   "metadata": {},
   "outputs": [],
   "source": [
    "def EDA_summary(df):\n",
    "    columns=['Column Name', 'Data Type', 'Non-null Count', 'Null Percentage', 'Unique Count', 'Examples']\n",
    "    df_summary=pd.DataFrame(columns=columns)\n",
    "    dlen=len(df)\n",
    "    for col in list(df.columns):\n",
    "        dtype=str(df.dtypes[col])\n",
    "        count=df[col].count()\n",
    "        null_perc=str(round(((dlen-count)/dlen)*100,1)) + ' %'\n",
    "        try:\n",
    "            uniq_val=np.sort(df[col].unique())\n",
    "        except:\n",
    "            uniq_val=df[col].unique()\n",
    "        uniq_cnt=len(uniq_val)\n",
    "        if uniq_cnt>10:\n",
    "            ex=list(uniq_val[:5]) + ['.............'] + list(uniq_val[-5:])\n",
    "        else:\n",
    "            ex=list(uniq_val)\n",
    "        arr=[col, dtype, count, null_perc, uniq_cnt, ex]\n",
    "        df_temp=pd.DataFrame([arr], columns=columns)\n",
    "        df_summary=df_summary.append(df_temp, ignore_index=True)  \n",
    "    return df_summary\n",
    "    "
   ]
  },
  {
   "cell_type": "markdown",
   "metadata": {},
   "source": [
    "# Column wise summary"
   ]
  },
  {
   "cell_type": "code",
   "execution_count": null,
   "metadata": {
    "scrolled": false
   },
   "outputs": [],
   "source": [
    "def EDA_column_summary(df):\n",
    "    df_summary=EDA_summary(df)\n",
    "    main_col=list(df_summary['Column Name'][df_summary['Non-null Count']==len(df)])[0]\n",
    "    print(main_col)\n",
    "    for ind in range(len(df_summary)):\n",
    "        col='\\033[1m' + '\\033[4m' + df_summary['Column Name'][ind] + '\\033[0m'\n",
    "        print(col.center(100) , end ='\\n    ')\n",
    "        print('Dtype: ', df_summary['Data Type'][ind], end ='\\n    ')\n",
    "        print('Values: ', df_summary['Examples'][ind], end ='\\n    ')\n",
    "\n",
    "        if df_summary['Unique Count'][ind]<10:\n",
    "            print('Bar Plot', end ='\\n    ')\n",
    "            barplot(df, df_summary['Column Name'][ind], main_col)\n",
    "            print('Pie Chart')\n",
    "            piechart(df, df_summary['Column Name'][ind], main_col)\n",
    "        else:\n",
    "            if df_summary['Data Type'][ind] in ['int64', 'float64']:\n",
    "                histogram(df, df_summary['Column Name'][ind])"
   ]
  },
  {
   "cell_type": "markdown",
   "metadata": {},
   "source": [
    "# Charts"
   ]
  },
  {
   "cell_type": "markdown",
   "metadata": {},
   "source": [
    "## Histogram "
   ]
  },
  {
   "cell_type": "code",
   "execution_count": null,
   "metadata": {},
   "outputs": [],
   "source": [
    "def histogram(df, col, bins=20):\n",
    "    x=list(df[col])\n",
    "    #histogram of the data\n",
    "    plt.figure(figsize=(bins/2,5))\n",
    "    n, bins, patches = plt.hist(x, bins=20)\n",
    "    r_bins=[int(round(b)) for b in bins]\n",
    "    plt.xlabel(col)\n",
    "    plt.ylabel('Number of records')\n",
    "    plt.xticks(r_bins[::1])\n",
    "    plt.show()"
   ]
  },
  {
   "cell_type": "markdown",
   "metadata": {},
   "source": [
    "## Bar plots"
   ]
  },
  {
   "cell_type": "code",
   "execution_count": null,
   "metadata": {},
   "outputs": [],
   "source": [
    "def barplot(df, groupby_col, count_col):\n",
    "    df_bar=df.groupby(by=[groupby_col]).count()\n",
    "    df_bar[count_col]\n",
    "    #using a subplots method\n",
    "    labels=list(df_bar.index)\n",
    "    records=list(df_bar[count_col])\n",
    "\n",
    "    x = np.arange(len(labels))/2\n",
    "    width = 0.4 #width of bars\n",
    "\n",
    "    fig, ax = plt.subplots()\n",
    "    bar1 = ax.bar(x, records, width)\n",
    "\n",
    "    #add some text in the chart\n",
    "    ax.set_ylabel('Number of records')\n",
    "    ax.set_xticks(x)\n",
    "    ax.set_xticklabels(labels)\n",
    "\n",
    "    def autolabel(bar_plot):\n",
    "        #Attach a text label above each bar, data labels\n",
    "        for bar in bar_plot:\n",
    "            height = bar.get_height()\n",
    "            ax.annotate('{}'.format(height),\n",
    "                        xy=(bar.get_x()+bar.get_width()/2, height),\n",
    "                        xytext=(0,2),\n",
    "                        textcoords='offset points',\n",
    "                        ha='center', va='bottom')\n",
    "\n",
    "    autolabel(bar1)\n",
    "    fig.tight_layout()\n",
    "    plt.show()    "
   ]
  },
  {
   "cell_type": "markdown",
   "metadata": {},
   "source": [
    "## Violin Plots "
   ]
  },
  {
   "cell_type": "code",
   "execution_count": null,
   "metadata": {},
   "outputs": [],
   "source": []
  },
  {
   "cell_type": "code",
   "execution_count": null,
   "metadata": {},
   "outputs": [],
   "source": []
  },
  {
   "cell_type": "code",
   "execution_count": null,
   "metadata": {},
   "outputs": [],
   "source": []
  },
  {
   "cell_type": "code",
   "execution_count": null,
   "metadata": {},
   "outputs": [],
   "source": []
  },
  {
   "cell_type": "code",
   "execution_count": null,
   "metadata": {},
   "outputs": [],
   "source": []
  },
  {
   "cell_type": "markdown",
   "metadata": {},
   "source": [
    "## Box Plots"
   ]
  },
  {
   "cell_type": "code",
   "execution_count": null,
   "metadata": {},
   "outputs": [],
   "source": []
  },
  {
   "cell_type": "code",
   "execution_count": null,
   "metadata": {},
   "outputs": [],
   "source": []
  },
  {
   "cell_type": "code",
   "execution_count": null,
   "metadata": {},
   "outputs": [],
   "source": []
  },
  {
   "cell_type": "code",
   "execution_count": null,
   "metadata": {},
   "outputs": [],
   "source": []
  },
  {
   "cell_type": "markdown",
   "metadata": {},
   "source": [
    "## Pie Chart"
   ]
  },
  {
   "cell_type": "code",
   "execution_count": null,
   "metadata": {},
   "outputs": [],
   "source": [
    "def piechart(df, groupby_col, count_col):\n",
    "    #groupby_col='Embarked'\n",
    "    #count_col='PassengerId'\n",
    "    df_bar=df.groupby(by=[groupby_col]).count()\n",
    "    df_bar[count_col]\n",
    "    labels=list(df_bar.index)\n",
    "    sizes=list(df_bar[count_col])\n",
    "    #sizes=[r/sum(records) for r in records]\n",
    "    figp, axp = plt.subplots()\n",
    "    axp.pie(sizes, labels=labels, autopct='%1.1f%%')\n",
    "    plt.show()"
   ]
  },
  {
   "cell_type": "code",
   "execution_count": null,
   "metadata": {},
   "outputs": [],
   "source": []
  },
  {
   "cell_type": "markdown",
   "metadata": {},
   "source": [
    "## categorical variables"
   ]
  },
  {
   "cell_type": "code",
   "execution_count": null,
   "metadata": {},
   "outputs": [],
   "source": [
    "plot()"
   ]
  },
  {
   "cell_type": "code",
   "execution_count": null,
   "metadata": {
    "scrolled": true
   },
   "outputs": [],
   "source": []
  },
  {
   "cell_type": "code",
   "execution_count": null,
   "metadata": {},
   "outputs": [],
   "source": []
  },
  {
   "cell_type": "code",
   "execution_count": null,
   "metadata": {},
   "outputs": [],
   "source": []
  },
  {
   "cell_type": "code",
   "execution_count": null,
   "metadata": {},
   "outputs": [],
   "source": []
  }
 ],
 "metadata": {
  "kernelspec": {
   "display_name": "Python 3",
   "language": "python",
   "name": "python3"
  },
  "language_info": {
   "codemirror_mode": {
    "name": "ipython",
    "version": 3
   },
   "file_extension": ".py",
   "mimetype": "text/x-python",
   "name": "python",
   "nbconvert_exporter": "python",
   "pygments_lexer": "ipython3",
   "version": "3.7.6"
  }
 },
 "nbformat": 4,
 "nbformat_minor": 4
}
